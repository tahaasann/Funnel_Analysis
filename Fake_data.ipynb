{
 "cells": [
  {
   "cell_type": "code",
   "execution_count": 1,
   "id": "6b7fe77b-d3dc-428a-bb6c-994e828bd217",
   "metadata": {},
   "outputs": [
    {
     "name": "stdout",
     "output_type": "stream",
     "text": [
      "Requirement already satisfied: faker in c:\\users\\tahaa\\anaconda3\\lib\\site-packages (33.1.0)\n",
      "Requirement already satisfied: python-dateutil>=2.4 in c:\\users\\tahaa\\anaconda3\\lib\\site-packages (from faker) (2.8.2)\n",
      "Requirement already satisfied: typing-extensions in c:\\users\\tahaa\\anaconda3\\lib\\site-packages (from faker) (4.9.0)\n",
      "Requirement already satisfied: six>=1.5 in c:\\users\\tahaa\\anaconda3\\lib\\site-packages (from python-dateutil>=2.4->faker) (1.16.0)\n"
     ]
    }
   ],
   "source": [
    "!pip install faker"
   ]
  },
  {
   "cell_type": "code",
   "execution_count": 3,
   "id": "18ee9a54-d1cb-434a-bf3d-34cd4236b251",
   "metadata": {},
   "outputs": [
    {
     "name": "stdout",
     "output_type": "stream",
     "text": [
      "Requirement already satisfied: Faker in c:\\users\\tahaa\\anaconda3\\lib\\site-packages (33.1.0)\n",
      "Requirement already satisfied: python-dateutil>=2.4 in c:\\users\\tahaa\\anaconda3\\lib\\site-packages (from Faker) (2.8.2)\n",
      "Requirement already satisfied: typing-extensions in c:\\users\\tahaa\\anaconda3\\lib\\site-packages (from Faker) (4.9.0)\n",
      "Requirement already satisfied: six>=1.5 in c:\\users\\tahaa\\anaconda3\\lib\\site-packages (from python-dateutil>=2.4->Faker) (1.16.0)\n"
     ]
    }
   ],
   "source": [
    "!pip install Faker"
   ]
  },
  {
   "cell_type": "code",
   "execution_count": 5,
   "id": "9b17ade2-d357-45ae-af59-985d53b636b8",
   "metadata": {},
   "outputs": [],
   "source": [
    "import random\n",
    "import pandas as pd\n",
    "from faker import Faker"
   ]
  },
  {
   "cell_type": "code",
   "execution_count": 7,
   "id": "505b3651-1ced-435a-9c05-2d7a9e70f54b",
   "metadata": {},
   "outputs": [],
   "source": [
    "fake = Faker('tr_TR') # Türkçe sahte veri üretmek için"
   ]
  },
  {
   "cell_type": "code",
   "execution_count": 9,
   "id": "c885f973-d910-47b2-9aa5-56cbf13dc166",
   "metadata": {},
   "outputs": [],
   "source": [
    "random.seed(42)\n",
    "Faker.seed(42)"
   ]
  },
  {
   "cell_type": "code",
   "execution_count": 15,
   "id": "84e034ab-67f3-429a-8be3-043ba4ede520",
   "metadata": {},
   "outputs": [],
   "source": [
    "# Step 1: Generate `page_visits` table\n",
    "def generate_page_visits(num_visitors=1000):\n",
    "    pages = [\"homepage\", \"product_page\", \"cart\", \"checkout\"]\n",
    "    page_visits = []\n",
    "\n",
    "    for visitor_id in range(1, num_visitors + 1):\n",
    "        # Each user visits a random number of pages in sequence\n",
    "        visit_sequence = random.sample(pages, k=random.randint(2, len(pages)))\n",
    "        for page in visit_sequence:\n",
    "            visit_timestamp = fake.date_time_this_year()\n",
    "            page_visits.append({\n",
    "                \"visitor_id\": visitor_id,\n",
    "                \"page\": page,\n",
    "                \"visit_timestamp\": visit_timestamp\n",
    "            })\n",
    "\n",
    "    return pd.DataFrame(page_visits)"
   ]
  },
  {
   "cell_type": "code",
   "execution_count": 19,
   "id": "ac2947a2-163d-44d6-800a-7695825984b5",
   "metadata": {},
   "outputs": [],
   "source": [
    "# Step 2: Generate `orders` table\n",
    "def generate_orders(num_orders=300, max_visitors=1000):\n",
    "    orders = []\n",
    "    for order_id in range(1, num_orders + 1):\n",
    "        visitor_id = random.randint(1, max_visitors)\n",
    "        order_timestamp = fake.date_time_this_year()\n",
    "        amount = random.randint(50, 500)  # Random order amount\n",
    "        orders.append({\n",
    "            \"order_id\": order_id,\n",
    "            \"visitor_id\": visitor_id,\n",
    "            \"order_timestamp\": order_timestamp,\n",
    "            \"amount\": amount\n",
    "        })\n",
    "\n",
    "    return pd.DataFrame(orders)"
   ]
  },
  {
   "cell_type": "code",
   "execution_count": 21,
   "id": "7a4f740f-2fda-4742-9590-2b88b0370023",
   "metadata": {},
   "outputs": [],
   "source": [
    "# Generate data\n",
    "page_visits_df = generate_page_visits(num_visitors=500)\n",
    "orders_df = generate_orders(num_orders=150, max_visitors=500)"
   ]
  },
  {
   "cell_type": "code",
   "execution_count": 27,
   "id": "a2b34bad-3e1a-462e-877a-7f6ccc6a57d2",
   "metadata": {},
   "outputs": [],
   "source": [
    "# Save data to CSV\n",
    "page_visits_path = \"page_visits_2.csv\"\n",
    "orders_path = \"orders_2.csv\"\n"
   ]
  },
  {
   "cell_type": "code",
   "execution_count": 29,
   "id": "6e0b0b24-6fa5-4dde-9d56-67f8a27b87b3",
   "metadata": {},
   "outputs": [],
   "source": [
    "page_visits_df.to_csv(page_visits_path, index=False)\n",
    "orders_df.to_csv(orders_path, index=False)"
   ]
  },
  {
   "cell_type": "code",
   "execution_count": 31,
   "id": "bab6f125-1562-484f-9a96-c599f246a88c",
   "metadata": {},
   "outputs": [
    {
     "data": {
      "text/plain": [
       "(   visitor_id          page     visit_timestamp\n",
       " 0           1      homepage 2024-09-05 07:53:23\n",
       " 1           1      checkout 2024-02-13 05:40:50\n",
       " 2           1  product_page 2024-01-10 17:07:01\n",
       " 3           1          cart 2024-10-14 23:45:05\n",
       " 4           2  product_page 2024-04-16 19:27:32,\n",
       "    order_id  visitor_id     order_timestamp  amount\n",
       " 0         1         255 2024-06-08 12:42:05      61\n",
       " 1         2          47 2024-01-17 22:49:20     251\n",
       " 2         3         259 2024-05-03 13:37:05     284\n",
       " 3         4         495 2024-10-16 05:09:18     173\n",
       " 4         5         111 2024-07-02 16:27:29     348)"
      ]
     },
     "execution_count": 31,
     "metadata": {},
     "output_type": "execute_result"
    }
   ],
   "source": [
    "# Display first rows of both datasets\n",
    "page_visits_df.head(), orders_df.head()"
   ]
  },
  {
   "cell_type": "code",
   "execution_count": null,
   "id": "f41883af-7aed-4a82-8719-4e8370ce11f4",
   "metadata": {},
   "outputs": [],
   "source": []
  },
  {
   "cell_type": "code",
   "execution_count": 33,
   "id": "3631d250-21b1-4847-8167-6205786d430f",
   "metadata": {},
   "outputs": [],
   "source": [
    "# Yöntem 2"
   ]
  },
  {
   "cell_type": "code",
   "execution_count": 6,
   "id": "17976076-1f9a-421d-bfa1-38cf93daf778",
   "metadata": {},
   "outputs": [],
   "source": [
    "# Customers verileri oluşturma (1000 satır)\n",
    "customers_data = []\n",
    "for i in range(1, 1001):\n",
    "    customers_data.append([i, fake.name(), fake.email(), fake.city(), fake.address()])\n",
    "customers_df = pd.DataFrame(customers_data, columns=['customer_id', 'name', 'email', 'city', 'address'])"
   ]
  },
  {
   "cell_type": "code",
   "execution_count": 10,
   "id": "1abd87e8-7c2b-47fe-98bc-d8971284f711",
   "metadata": {},
   "outputs": [
    {
     "data": {
      "text/html": [
       "<div>\n",
       "<style scoped>\n",
       "    .dataframe tbody tr th:only-of-type {\n",
       "        vertical-align: middle;\n",
       "    }\n",
       "\n",
       "    .dataframe tbody tr th {\n",
       "        vertical-align: top;\n",
       "    }\n",
       "\n",
       "    .dataframe thead th {\n",
       "        text-align: right;\n",
       "    }\n",
       "</style>\n",
       "<table border=\"1\" class=\"dataframe\">\n",
       "  <thead>\n",
       "    <tr style=\"text-align: right;\">\n",
       "      <th></th>\n",
       "      <th>customer_id</th>\n",
       "      <th>name</th>\n",
       "      <th>email</th>\n",
       "      <th>city</th>\n",
       "      <th>address</th>\n",
       "    </tr>\n",
       "  </thead>\n",
       "  <tbody>\n",
       "    <tr>\n",
       "      <th>0</th>\n",
       "      <td>1</td>\n",
       "      <td>Öğr. Büreyre Melikkan Şener</td>\n",
       "      <td>uihsanoglu@example.com</td>\n",
       "      <td>New Umuşan</td>\n",
       "      <td>640 Eraslan Cliffs Apt. 142\\nÇamurcuoğlumouth,...</td>\n",
       "    </tr>\n",
       "    <tr>\n",
       "      <th>1</th>\n",
       "      <td>2</td>\n",
       "      <td>Öğr. Bağdat Akça Bilge</td>\n",
       "      <td>lhancer@example.com</td>\n",
       "      <td>Zenginton</td>\n",
       "      <td>18370 Zorlu Plains\\nSouth Duracanside, TN 16320</td>\n",
       "    </tr>\n",
       "    <tr>\n",
       "      <th>2</th>\n",
       "      <td>3</td>\n",
       "      <td>Doç. Koldan Bekbay Güçlü</td>\n",
       "      <td>eraslancagdan@example.net</td>\n",
       "      <td>New Orgünstad</td>\n",
       "      <td>6027 Akçay Station Apt. 031\\nUmutcantown, NC 2...</td>\n",
       "    </tr>\n",
       "    <tr>\n",
       "      <th>3</th>\n",
       "      <td>4</td>\n",
       "      <td>Dr. Temime Fayize Gül</td>\n",
       "      <td>seneremrullah@example.org</td>\n",
       "      <td>Ayyarukborough</td>\n",
       "      <td>20265 Akar Forge\\nLake Yetişal, LA 97095</td>\n",
       "    </tr>\n",
       "    <tr>\n",
       "      <th>4</th>\n",
       "      <td>5</td>\n",
       "      <td>Bay Akalan Tevetoğlu</td>\n",
       "      <td>teberkisakurek@example.net</td>\n",
       "      <td>South Zöhrehan</td>\n",
       "      <td>Unit 6395 Box 6659\\nDPO AP 71941</td>\n",
       "    </tr>\n",
       "  </tbody>\n",
       "</table>\n",
       "</div>"
      ],
      "text/plain": [
       "   customer_id                         name                       email  \\\n",
       "0            1  Öğr. Büreyre Melikkan Şener      uihsanoglu@example.com   \n",
       "1            2       Öğr. Bağdat Akça Bilge         lhancer@example.com   \n",
       "2            3     Doç. Koldan Bekbay Güçlü   eraslancagdan@example.net   \n",
       "3            4        Dr. Temime Fayize Gül   seneremrullah@example.org   \n",
       "4            5         Bay Akalan Tevetoğlu  teberkisakurek@example.net   \n",
       "\n",
       "             city                                            address  \n",
       "0      New Umuşan  640 Eraslan Cliffs Apt. 142\\nÇamurcuoğlumouth,...  \n",
       "1       Zenginton    18370 Zorlu Plains\\nSouth Duracanside, TN 16320  \n",
       "2   New Orgünstad  6027 Akçay Station Apt. 031\\nUmutcantown, NC 2...  \n",
       "3  Ayyarukborough           20265 Akar Forge\\nLake Yetişal, LA 97095  \n",
       "4  South Zöhrehan                   Unit 6395 Box 6659\\nDPO AP 71941  "
      ]
     },
     "execution_count": 10,
     "metadata": {},
     "output_type": "execute_result"
    }
   ],
   "source": [
    "customers_df.head()"
   ]
  },
  {
   "cell_type": "code",
   "execution_count": 12,
   "id": "f26604e5-c0c9-4cdc-b705-9cd6cdd9cdbf",
   "metadata": {},
   "outputs": [],
   "source": [
    "# Products Verileri Oluşturma (1000 satır)\n",
    "products_data = []\n",
    "categories = ['Elektronik', 'Giyim', 'Ev & Yaşam', 'Kozmetik', 'Spor']\n",
    "for i in range(1, 1001):\n",
    "    products_data.append([i, fake.word().capitalize() + ' ' + fake.word().capitalize(), random.choice(categories), round(random.uniform(10, 2000), 2), random.randint(10, 200)])\n",
    "products_df = pd.DataFrame(products_data, columns=['product_id', 'name', 'category', 'price', 'stock'])"
   ]
  },
  {
   "cell_type": "code",
   "execution_count": 14,
   "id": "356b0b86-27b8-425f-bffb-38a9bdc09f97",
   "metadata": {},
   "outputs": [
    {
     "data": {
      "text/html": [
       "<div>\n",
       "<style scoped>\n",
       "    .dataframe tbody tr th:only-of-type {\n",
       "        vertical-align: middle;\n",
       "    }\n",
       "\n",
       "    .dataframe tbody tr th {\n",
       "        vertical-align: top;\n",
       "    }\n",
       "\n",
       "    .dataframe thead th {\n",
       "        text-align: right;\n",
       "    }\n",
       "</style>\n",
       "<table border=\"1\" class=\"dataframe\">\n",
       "  <thead>\n",
       "    <tr style=\"text-align: right;\">\n",
       "      <th></th>\n",
       "      <th>product_id</th>\n",
       "      <th>name</th>\n",
       "      <th>category</th>\n",
       "      <th>price</th>\n",
       "      <th>stock</th>\n",
       "    </tr>\n",
       "  </thead>\n",
       "  <tbody>\n",
       "    <tr>\n",
       "      <th>0</th>\n",
       "      <td>1</td>\n",
       "      <td>Adipisci Voluptatibus</td>\n",
       "      <td>Kozmetik</td>\n",
       "      <td>1189.14</td>\n",
       "      <td>164</td>\n",
       "    </tr>\n",
       "    <tr>\n",
       "      <th>1</th>\n",
       "      <td>2</td>\n",
       "      <td>Magni Voluptatum</td>\n",
       "      <td>Elektronik</td>\n",
       "      <td>198.32</td>\n",
       "      <td>173</td>\n",
       "    </tr>\n",
       "    <tr>\n",
       "      <th>2</th>\n",
       "      <td>3</td>\n",
       "      <td>Expedita Dolores</td>\n",
       "      <td>Kozmetik</td>\n",
       "      <td>858.35</td>\n",
       "      <td>119</td>\n",
       "    </tr>\n",
       "    <tr>\n",
       "      <th>3</th>\n",
       "      <td>4</td>\n",
       "      <td>Nobis Hic</td>\n",
       "      <td>Elektronik</td>\n",
       "      <td>1058.28</td>\n",
       "      <td>55</td>\n",
       "    </tr>\n",
       "    <tr>\n",
       "      <th>4</th>\n",
       "      <td>5</td>\n",
       "      <td>At Voluptate</td>\n",
       "      <td>Spor</td>\n",
       "      <td>1107.18</td>\n",
       "      <td>73</td>\n",
       "    </tr>\n",
       "  </tbody>\n",
       "</table>\n",
       "</div>"
      ],
      "text/plain": [
       "   product_id                   name    category    price  stock\n",
       "0           1  Adipisci Voluptatibus    Kozmetik  1189.14    164\n",
       "1           2       Magni Voluptatum  Elektronik   198.32    173\n",
       "2           3       Expedita Dolores    Kozmetik   858.35    119\n",
       "3           4              Nobis Hic  Elektronik  1058.28     55\n",
       "4           5           At Voluptate        Spor  1107.18     73"
      ]
     },
     "execution_count": 14,
     "metadata": {},
     "output_type": "execute_result"
    }
   ],
   "source": [
    "products_df.head()"
   ]
  },
  {
   "cell_type": "code",
   "execution_count": 16,
   "id": "cb0ab952-508f-457e-aa3b-4c47631240b5",
   "metadata": {},
   "outputs": [],
   "source": [
    "# Orders verileri oluşturma (1000 satır, customer_id değerleri customers_df'den)\n",
    "orders_data = []\n",
    "for i in range(1, 1001):\n",
    "    orders_data.append([i, random.choice(customers_df['customer_id']), fake.date_between(start_date='-60d', end_date='today')])\n",
    "orders_df = pd.DataFrame(orders_data, columns=['order_id', 'customer_id', 'order_date'])"
   ]
  },
  {
   "cell_type": "code",
   "execution_count": 18,
   "id": "7784b34f-40be-4b7c-b7b7-110cb4e67319",
   "metadata": {},
   "outputs": [
    {
     "data": {
      "text/html": [
       "<div>\n",
       "<style scoped>\n",
       "    .dataframe tbody tr th:only-of-type {\n",
       "        vertical-align: middle;\n",
       "    }\n",
       "\n",
       "    .dataframe tbody tr th {\n",
       "        vertical-align: top;\n",
       "    }\n",
       "\n",
       "    .dataframe thead th {\n",
       "        text-align: right;\n",
       "    }\n",
       "</style>\n",
       "<table border=\"1\" class=\"dataframe\">\n",
       "  <thead>\n",
       "    <tr style=\"text-align: right;\">\n",
       "      <th></th>\n",
       "      <th>order_id</th>\n",
       "      <th>customer_id</th>\n",
       "      <th>order_date</th>\n",
       "    </tr>\n",
       "  </thead>\n",
       "  <tbody>\n",
       "    <tr>\n",
       "      <th>0</th>\n",
       "      <td>1</td>\n",
       "      <td>864</td>\n",
       "      <td>2024-11-18</td>\n",
       "    </tr>\n",
       "    <tr>\n",
       "      <th>1</th>\n",
       "      <td>2</td>\n",
       "      <td>669</td>\n",
       "      <td>2024-11-12</td>\n",
       "    </tr>\n",
       "    <tr>\n",
       "      <th>2</th>\n",
       "      <td>3</td>\n",
       "      <td>636</td>\n",
       "      <td>2024-11-05</td>\n",
       "    </tr>\n",
       "    <tr>\n",
       "      <th>3</th>\n",
       "      <td>4</td>\n",
       "      <td>450</td>\n",
       "      <td>2024-10-13</td>\n",
       "    </tr>\n",
       "    <tr>\n",
       "      <th>4</th>\n",
       "      <td>5</td>\n",
       "      <td>178</td>\n",
       "      <td>2024-10-15</td>\n",
       "    </tr>\n",
       "  </tbody>\n",
       "</table>\n",
       "</div>"
      ],
      "text/plain": [
       "   order_id  customer_id  order_date\n",
       "0         1          864  2024-11-18\n",
       "1         2          669  2024-11-12\n",
       "2         3          636  2024-11-05\n",
       "3         4          450  2024-10-13\n",
       "4         5          178  2024-10-15"
      ]
     },
     "execution_count": 18,
     "metadata": {},
     "output_type": "execute_result"
    }
   ],
   "source": [
    "orders_df.head()"
   ]
  },
  {
   "cell_type": "code",
   "execution_count": 20,
   "id": "7c56a62e-4a89-4b7a-b7b7-166a724eb3af",
   "metadata": {},
   "outputs": [],
   "source": [
    "# Order Items verileri oluşturma (1000 satır, customer_id ve product_id değerleri customers_df ve products_df'den)\n",
    "order_items_data = []\n",
    "for i in range(1, 1001):\n",
    "    order_id = random.choice(orders_df['order_id'])\n",
    "    product_id = random.choice(products_df['product_id'])\n",
    "    order_items_data.append([i, order_id, product_id, random.randint(1, 50), products_df.loc[products_df['product_id'] == product_id, 'price'].iloc[0]])\n",
    "order_items_df = pd.DataFrame(order_items_data, columns=['order_item_id', 'order_id', 'product_id', 'quantity', 'unit_price'])"
   ]
  },
  {
   "cell_type": "code",
   "execution_count": 22,
   "id": "88ccc861-f3a2-4b4d-bb7d-a130873b0c87",
   "metadata": {},
   "outputs": [
    {
     "data": {
      "text/html": [
       "<div>\n",
       "<style scoped>\n",
       "    .dataframe tbody tr th:only-of-type {\n",
       "        vertical-align: middle;\n",
       "    }\n",
       "\n",
       "    .dataframe tbody tr th {\n",
       "        vertical-align: top;\n",
       "    }\n",
       "\n",
       "    .dataframe thead th {\n",
       "        text-align: right;\n",
       "    }\n",
       "</style>\n",
       "<table border=\"1\" class=\"dataframe\">\n",
       "  <thead>\n",
       "    <tr style=\"text-align: right;\">\n",
       "      <th></th>\n",
       "      <th>order_item_id</th>\n",
       "      <th>order_id</th>\n",
       "      <th>product_id</th>\n",
       "      <th>quantity</th>\n",
       "      <th>unit_price</th>\n",
       "    </tr>\n",
       "  </thead>\n",
       "  <tbody>\n",
       "    <tr>\n",
       "      <th>0</th>\n",
       "      <td>1</td>\n",
       "      <td>32</td>\n",
       "      <td>412</td>\n",
       "      <td>5</td>\n",
       "      <td>951.17</td>\n",
       "    </tr>\n",
       "    <tr>\n",
       "      <th>1</th>\n",
       "      <td>2</td>\n",
       "      <td>120</td>\n",
       "      <td>250</td>\n",
       "      <td>4</td>\n",
       "      <td>862.17</td>\n",
       "    </tr>\n",
       "    <tr>\n",
       "      <th>2</th>\n",
       "      <td>3</td>\n",
       "      <td>393</td>\n",
       "      <td>340</td>\n",
       "      <td>22</td>\n",
       "      <td>1636.44</td>\n",
       "    </tr>\n",
       "    <tr>\n",
       "      <th>3</th>\n",
       "      <td>4</td>\n",
       "      <td>161</td>\n",
       "      <td>344</td>\n",
       "      <td>1</td>\n",
       "      <td>1141.95</td>\n",
       "    </tr>\n",
       "    <tr>\n",
       "      <th>4</th>\n",
       "      <td>5</td>\n",
       "      <td>722</td>\n",
       "      <td>299</td>\n",
       "      <td>19</td>\n",
       "      <td>524.34</td>\n",
       "    </tr>\n",
       "  </tbody>\n",
       "</table>\n",
       "</div>"
      ],
      "text/plain": [
       "   order_item_id  order_id  product_id  quantity  unit_price\n",
       "0              1        32         412         5      951.17\n",
       "1              2       120         250         4      862.17\n",
       "2              3       393         340        22     1636.44\n",
       "3              4       161         344         1     1141.95\n",
       "4              5       722         299        19      524.34"
      ]
     },
     "execution_count": 22,
     "metadata": {},
     "output_type": "execute_result"
    }
   ],
   "source": [
    "order_items_df.head()"
   ]
  },
  {
   "cell_type": "code",
   "execution_count": 24,
   "id": "d54b6b1c-2820-4a66-ae9e-2367118d71cc",
   "metadata": {},
   "outputs": [],
   "source": [
    "# Page Visits verileri oluşturma (1000 satır, customer_id değerleri customers_df'den)\n",
    "page_visits_data = []\n",
    "for i in range(1, 1001):\n",
    "    page_visits_data.append([i, random.choice(customers_df['customer_id']), fake.uri_path(), fake.date_time_between(start_date='-30d', end_date='now'), random.randint(5, 300)])\n",
    "page_visits_df = pd.DataFrame(page_visits_data, columns=['visit_id', 'customer_id', 'page_url', 'visit_timestamp', 'time_spent_seconds'])"
   ]
  },
  {
   "cell_type": "code",
   "execution_count": 26,
   "id": "59c850a3-28bb-413f-bdb7-cb2b51f9136f",
   "metadata": {},
   "outputs": [
    {
     "data": {
      "text/html": [
       "<div>\n",
       "<style scoped>\n",
       "    .dataframe tbody tr th:only-of-type {\n",
       "        vertical-align: middle;\n",
       "    }\n",
       "\n",
       "    .dataframe tbody tr th {\n",
       "        vertical-align: top;\n",
       "    }\n",
       "\n",
       "    .dataframe thead th {\n",
       "        text-align: right;\n",
       "    }\n",
       "</style>\n",
       "<table border=\"1\" class=\"dataframe\">\n",
       "  <thead>\n",
       "    <tr style=\"text-align: right;\">\n",
       "      <th></th>\n",
       "      <th>visit_id</th>\n",
       "      <th>customer_id</th>\n",
       "      <th>page_url</th>\n",
       "      <th>visit_timestamp</th>\n",
       "      <th>time_spent_seconds</th>\n",
       "    </tr>\n",
       "  </thead>\n",
       "  <tbody>\n",
       "    <tr>\n",
       "      <th>0</th>\n",
       "      <td>1</td>\n",
       "      <td>508</td>\n",
       "      <td>posts</td>\n",
       "      <td>2024-11-13 21:23:44</td>\n",
       "      <td>89</td>\n",
       "    </tr>\n",
       "    <tr>\n",
       "      <th>1</th>\n",
       "      <td>2</td>\n",
       "      <td>321</td>\n",
       "      <td>app</td>\n",
       "      <td>2024-12-05 11:43:57</td>\n",
       "      <td>263</td>\n",
       "    </tr>\n",
       "    <tr>\n",
       "      <th>2</th>\n",
       "      <td>3</td>\n",
       "      <td>626</td>\n",
       "      <td>explore/app</td>\n",
       "      <td>2024-11-26 11:22:20</td>\n",
       "      <td>49</td>\n",
       "    </tr>\n",
       "    <tr>\n",
       "      <th>3</th>\n",
       "      <td>4</td>\n",
       "      <td>131</td>\n",
       "      <td>blog/tags/app</td>\n",
       "      <td>2024-12-04 08:57:50</td>\n",
       "      <td>98</td>\n",
       "    </tr>\n",
       "    <tr>\n",
       "      <th>4</th>\n",
       "      <td>5</td>\n",
       "      <td>975</td>\n",
       "      <td>categories</td>\n",
       "      <td>2024-11-23 15:42:36</td>\n",
       "      <td>74</td>\n",
       "    </tr>\n",
       "  </tbody>\n",
       "</table>\n",
       "</div>"
      ],
      "text/plain": [
       "   visit_id  customer_id       page_url     visit_timestamp  \\\n",
       "0         1          508          posts 2024-11-13 21:23:44   \n",
       "1         2          321            app 2024-12-05 11:43:57   \n",
       "2         3          626    explore/app 2024-11-26 11:22:20   \n",
       "3         4          131  blog/tags/app 2024-12-04 08:57:50   \n",
       "4         5          975     categories 2024-11-23 15:42:36   \n",
       "\n",
       "   time_spent_seconds  \n",
       "0                  89  \n",
       "1                 263  \n",
       "2                  49  \n",
       "3                  98  \n",
       "4                  74  "
      ]
     },
     "execution_count": 26,
     "metadata": {},
     "output_type": "execute_result"
    }
   ],
   "source": [
    "page_visits_df.head()"
   ]
  },
  {
   "cell_type": "code",
   "execution_count": 28,
   "id": "3aa34618-805f-471b-a2c5-1cd9555add18",
   "metadata": {},
   "outputs": [],
   "source": [
    "# Marketing Campaigns verileri oluşturma (20 satır)\n",
    "marketing_campaigns_data = []\n",
    "for i in range(1, 21):\n",
    "    marketing_campaigns_data.append([i, 'Kampanya ' + str(i), fake.date_between(start_date='-60d', end_date='-30d'), fake.date_between(start_date='-29d', end_date='today'), round(random.uniform(1000, 5000), 2)])\n",
    "marketing_campaigns_df = pd.DataFrame(marketing_campaigns_data, columns=['campaign_id', 'campaign_name', 'start_date', 'end_date', 'cost'])"
   ]
  },
  {
   "cell_type": "code",
   "execution_count": 30,
   "id": "df6d37cb-4351-43fa-b8b4-1ca74eb3525d",
   "metadata": {},
   "outputs": [
    {
     "data": {
      "text/html": [
       "<div>\n",
       "<style scoped>\n",
       "    .dataframe tbody tr th:only-of-type {\n",
       "        vertical-align: middle;\n",
       "    }\n",
       "\n",
       "    .dataframe tbody tr th {\n",
       "        vertical-align: top;\n",
       "    }\n",
       "\n",
       "    .dataframe thead th {\n",
       "        text-align: right;\n",
       "    }\n",
       "</style>\n",
       "<table border=\"1\" class=\"dataframe\">\n",
       "  <thead>\n",
       "    <tr style=\"text-align: right;\">\n",
       "      <th></th>\n",
       "      <th>campaign_id</th>\n",
       "      <th>campaign_name</th>\n",
       "      <th>start_date</th>\n",
       "      <th>end_date</th>\n",
       "      <th>cost</th>\n",
       "    </tr>\n",
       "  </thead>\n",
       "  <tbody>\n",
       "    <tr>\n",
       "      <th>0</th>\n",
       "      <td>1</td>\n",
       "      <td>Kampanya 1</td>\n",
       "      <td>2024-11-04</td>\n",
       "      <td>2024-12-04</td>\n",
       "      <td>4644.46</td>\n",
       "    </tr>\n",
       "    <tr>\n",
       "      <th>1</th>\n",
       "      <td>2</td>\n",
       "      <td>Kampanya 2</td>\n",
       "      <td>2024-10-26</td>\n",
       "      <td>2024-12-01</td>\n",
       "      <td>3911.64</td>\n",
       "    </tr>\n",
       "    <tr>\n",
       "      <th>2</th>\n",
       "      <td>3</td>\n",
       "      <td>Kampanya 3</td>\n",
       "      <td>2024-10-15</td>\n",
       "      <td>2024-12-06</td>\n",
       "      <td>4395.92</td>\n",
       "    </tr>\n",
       "    <tr>\n",
       "      <th>3</th>\n",
       "      <td>4</td>\n",
       "      <td>Kampanya 4</td>\n",
       "      <td>2024-11-02</td>\n",
       "      <td>2024-11-16</td>\n",
       "      <td>1297.00</td>\n",
       "    </tr>\n",
       "    <tr>\n",
       "      <th>4</th>\n",
       "      <td>5</td>\n",
       "      <td>Kampanya 5</td>\n",
       "      <td>2024-10-21</td>\n",
       "      <td>2024-11-17</td>\n",
       "      <td>4229.24</td>\n",
       "    </tr>\n",
       "  </tbody>\n",
       "</table>\n",
       "</div>"
      ],
      "text/plain": [
       "   campaign_id campaign_name  start_date    end_date     cost\n",
       "0            1    Kampanya 1  2024-11-04  2024-12-04  4644.46\n",
       "1            2    Kampanya 2  2024-10-26  2024-12-01  3911.64\n",
       "2            3    Kampanya 3  2024-10-15  2024-12-06  4395.92\n",
       "3            4    Kampanya 4  2024-11-02  2024-11-16  1297.00\n",
       "4            5    Kampanya 5  2024-10-21  2024-11-17  4229.24"
      ]
     },
     "execution_count": 30,
     "metadata": {},
     "output_type": "execute_result"
    }
   ],
   "source": [
    "marketing_campaigns_df.head()"
   ]
  },
  {
   "cell_type": "code",
   "execution_count": 32,
   "id": "59291a5c-4d73-4572-a94d-995d22cd1b67",
   "metadata": {},
   "outputs": [],
   "source": [
    "# Campaign Results verileri oluşturma (1000 satır, customer_id ve campaign_id değerleri customers_df ve marketing_campaigns_df'den)\n",
    "campaign_results_data = []\n",
    "for i in range(1, 1001):\n",
    "    campaign_results_data.append([random.choice(marketing_campaigns_df['campaign_id']), random.choice(customers_df['customer_id']), random.choice([True, False])])\n",
    "campaign_results_df = pd.DataFrame(campaign_results_data, columns=['campaign_id', 'customer_id', 'conversion'])"
   ]
  },
  {
   "cell_type": "code",
   "execution_count": 34,
   "id": "08b34904-73e4-432b-97bd-fdfb9b9634ae",
   "metadata": {},
   "outputs": [
    {
     "data": {
      "text/html": [
       "<div>\n",
       "<style scoped>\n",
       "    .dataframe tbody tr th:only-of-type {\n",
       "        vertical-align: middle;\n",
       "    }\n",
       "\n",
       "    .dataframe tbody tr th {\n",
       "        vertical-align: top;\n",
       "    }\n",
       "\n",
       "    .dataframe thead th {\n",
       "        text-align: right;\n",
       "    }\n",
       "</style>\n",
       "<table border=\"1\" class=\"dataframe\">\n",
       "  <thead>\n",
       "    <tr style=\"text-align: right;\">\n",
       "      <th></th>\n",
       "      <th>campaign_id</th>\n",
       "      <th>customer_id</th>\n",
       "      <th>conversion</th>\n",
       "    </tr>\n",
       "  </thead>\n",
       "  <tbody>\n",
       "    <tr>\n",
       "      <th>0</th>\n",
       "      <td>4</td>\n",
       "      <td>88</td>\n",
       "      <td>False</td>\n",
       "    </tr>\n",
       "    <tr>\n",
       "      <th>1</th>\n",
       "      <td>12</td>\n",
       "      <td>768</td>\n",
       "      <td>False</td>\n",
       "    </tr>\n",
       "    <tr>\n",
       "      <th>2</th>\n",
       "      <td>11</td>\n",
       "      <td>491</td>\n",
       "      <td>True</td>\n",
       "    </tr>\n",
       "    <tr>\n",
       "      <th>3</th>\n",
       "      <td>12</td>\n",
       "      <td>124</td>\n",
       "      <td>False</td>\n",
       "    </tr>\n",
       "    <tr>\n",
       "      <th>4</th>\n",
       "      <td>5</td>\n",
       "      <td>811</td>\n",
       "      <td>True</td>\n",
       "    </tr>\n",
       "  </tbody>\n",
       "</table>\n",
       "</div>"
      ],
      "text/plain": [
       "   campaign_id  customer_id  conversion\n",
       "0            4           88       False\n",
       "1           12          768       False\n",
       "2           11          491        True\n",
       "3           12          124       False\n",
       "4            5          811        True"
      ]
     },
     "execution_count": 34,
     "metadata": {},
     "output_type": "execute_result"
    }
   ],
   "source": [
    "campaign_results_df.head()"
   ]
  },
  {
   "cell_type": "code",
   "execution_count": 36,
   "id": "53af6ae7-5ed5-4069-9bc9-861a0be59d08",
   "metadata": {
    "scrolled": true
   },
   "outputs": [
    {
     "name": "stdout",
     "output_type": "stream",
     "text": [
      "<class 'pandas.core.frame.DataFrame'>\n",
      "RangeIndex: 1000 entries, 0 to 999\n",
      "Data columns (total 5 columns):\n",
      " #   Column       Non-Null Count  Dtype \n",
      "---  ------       --------------  ----- \n",
      " 0   customer_id  1000 non-null   int64 \n",
      " 1   name         1000 non-null   object\n",
      " 2   email        1000 non-null   object\n",
      " 3   city         1000 non-null   object\n",
      " 4   address      1000 non-null   object\n",
      "dtypes: int64(1), object(4)\n",
      "memory usage: 39.2+ KB\n",
      "<class 'pandas.core.frame.DataFrame'>\n",
      "RangeIndex: 1000 entries, 0 to 999\n",
      "Data columns (total 5 columns):\n",
      " #   Column      Non-Null Count  Dtype  \n",
      "---  ------      --------------  -----  \n",
      " 0   product_id  1000 non-null   int64  \n",
      " 1   name        1000 non-null   object \n",
      " 2   category    1000 non-null   object \n",
      " 3   price       1000 non-null   float64\n",
      " 4   stock       1000 non-null   int64  \n",
      "dtypes: float64(1), int64(2), object(2)\n",
      "memory usage: 39.2+ KB\n",
      "<class 'pandas.core.frame.DataFrame'>\n",
      "RangeIndex: 1000 entries, 0 to 999\n",
      "Data columns (total 3 columns):\n",
      " #   Column       Non-Null Count  Dtype \n",
      "---  ------       --------------  ----- \n",
      " 0   order_id     1000 non-null   int64 \n",
      " 1   customer_id  1000 non-null   int64 \n",
      " 2   order_date   1000 non-null   object\n",
      "dtypes: int64(2), object(1)\n",
      "memory usage: 23.6+ KB\n",
      "<class 'pandas.core.frame.DataFrame'>\n",
      "RangeIndex: 1000 entries, 0 to 999\n",
      "Data columns (total 5 columns):\n",
      " #   Column         Non-Null Count  Dtype  \n",
      "---  ------         --------------  -----  \n",
      " 0   order_item_id  1000 non-null   int64  \n",
      " 1   order_id       1000 non-null   int64  \n",
      " 2   product_id     1000 non-null   int64  \n",
      " 3   quantity       1000 non-null   int64  \n",
      " 4   unit_price     1000 non-null   float64\n",
      "dtypes: float64(1), int64(4)\n",
      "memory usage: 39.2 KB\n",
      "<class 'pandas.core.frame.DataFrame'>\n",
      "RangeIndex: 1000 entries, 0 to 999\n",
      "Data columns (total 5 columns):\n",
      " #   Column              Non-Null Count  Dtype         \n",
      "---  ------              --------------  -----         \n",
      " 0   visit_id            1000 non-null   int64         \n",
      " 1   customer_id         1000 non-null   int64         \n",
      " 2   page_url            1000 non-null   object        \n",
      " 3   visit_timestamp     1000 non-null   datetime64[ns]\n",
      " 4   time_spent_seconds  1000 non-null   int64         \n",
      "dtypes: datetime64[ns](1), int64(3), object(1)\n",
      "memory usage: 39.2+ KB\n",
      "<class 'pandas.core.frame.DataFrame'>\n",
      "RangeIndex: 20 entries, 0 to 19\n",
      "Data columns (total 5 columns):\n",
      " #   Column         Non-Null Count  Dtype  \n",
      "---  ------         --------------  -----  \n",
      " 0   campaign_id    20 non-null     int64  \n",
      " 1   campaign_name  20 non-null     object \n",
      " 2   start_date     20 non-null     object \n",
      " 3   end_date       20 non-null     object \n",
      " 4   cost           20 non-null     float64\n",
      "dtypes: float64(1), int64(1), object(3)\n",
      "memory usage: 932.0+ bytes\n",
      "<class 'pandas.core.frame.DataFrame'>\n",
      "RangeIndex: 1000 entries, 0 to 999\n",
      "Data columns (total 3 columns):\n",
      " #   Column       Non-Null Count  Dtype\n",
      "---  ------       --------------  -----\n",
      " 0   campaign_id  1000 non-null   int64\n",
      " 1   customer_id  1000 non-null   int64\n",
      " 2   conversion   1000 non-null   bool \n",
      "dtypes: bool(1), int64(2)\n",
      "memory usage: 16.7 KB\n"
     ]
    }
   ],
   "source": [
    "customers_df.info()\n",
    "products_df.info()\n",
    "orders_df.info()\n",
    "order_items_df.info()\n",
    "page_visits_df.info()\n",
    "marketing_campaigns_df.info()\n",
    "campaign_results_df.info()"
   ]
  },
  {
   "cell_type": "code",
   "execution_count": 40,
   "id": "18a8e4e1-932c-42c0-9ec8-bb23867709a5",
   "metadata": {},
   "outputs": [],
   "source": [
    "# Verileri .csv formatında kaydetmek\n",
    "customers_df.to_csv('customers.csv', index=False)\n",
    "products_df.to_csv('products.csv', index=False)\n",
    "orders_df.to_csv('orders.csv', index=False)\n",
    "order_items_df.to_csv('order_items.csv', index=False)\n",
    "page_visits_df.to_csv('page_visits.csv', index=False)\n",
    "marketing_campaigns_df.to_csv('marketing_campaigns.csv', index=False)\n",
    "campaign_results_df.to_csv('campaign_results.csv', index=False)"
   ]
  },
  {
   "cell_type": "code",
   "execution_count": null,
   "id": "5f5e3e13-e20a-48b8-a74c-b71ee4264908",
   "metadata": {},
   "outputs": [],
   "source": []
  }
 ],
 "metadata": {
  "kernelspec": {
   "display_name": "Python 3 (ipykernel)",
   "language": "python",
   "name": "python3"
  },
  "language_info": {
   "codemirror_mode": {
    "name": "ipython",
    "version": 3
   },
   "file_extension": ".py",
   "mimetype": "text/x-python",
   "name": "python",
   "nbconvert_exporter": "python",
   "pygments_lexer": "ipython3",
   "version": "3.11.7"
  }
 },
 "nbformat": 4,
 "nbformat_minor": 5
}
